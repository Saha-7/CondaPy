{
 "cells": [
  {
   "cell_type": "markdown",
   "id": "0a308743",
   "metadata": {},
   "source": [
    "# Pydantic\n",
    "\n",
    "Pydantic models are the foundation of  data validation in Python. They use Python type annotations to define the structure & validate data at runtime. Here is the detailed exploration of basic model creation ⬇️"
   ]
  },
  {
   "cell_type": "code",
   "execution_count": null,
   "id": "22924827",
   "metadata": {},
   "outputs": [],
   "source": [
    "from pydantic import BaseModel"
   ]
  },
  {
   "cell_type": "code",
   "execution_count": null,
   "id": "328207d2",
   "metadata": {},
   "outputs": [],
   "source": [
    "class Person(BaseModel):\n",
    "    name: str\n",
    "    age: int\n",
    "    city :str\n",
    "\n",
    "person = person(name=\"Pritam\", age=25, city=123)\n",
    "print(person)"
   ]
  }
 ],
 "metadata": {
  "kernelspec": {
   "display_name": "Python 3",
   "language": "python",
   "name": "python3"
  },
  "language_info": {
   "name": "python",
   "version": "3.12.0"
  }
 },
 "nbformat": 4,
 "nbformat_minor": 5
}
