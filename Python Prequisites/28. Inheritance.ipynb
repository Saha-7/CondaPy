{
 "cells": [
  {
   "cell_type": "markdown",
   "id": "753a7b2e",
   "metadata": {},
   "source": [
    "# Inheritance in Python\n",
    "\n",
    "Inheritance is a fundamental topic in Object-Oriented Programming. Inheritance allows a class to inherit attributes & methods from another class."
   ]
  },
  {
   "cell_type": "code",
   "execution_count": null,
   "id": "3ab19d34",
   "metadata": {},
   "outputs": [
    {
     "name": "stdout",
     "output_type": "stream",
     "text": [
      "The person will drive a petrol car\n",
      "The person will drive a battery car\n",
      "Tesla support self driving: True\n"
     ]
    }
   ],
   "source": [
    "### Single Inheritance ###\n",
    "## Parent class\n",
    "class Car:\n",
    "    def __init__(self,doors,window,engineType):\n",
    "        self.doors=doors\n",
    "        self.window=window\n",
    "        self.engineType=engineType\n",
    "\n",
    "    def drive(self):\n",
    "        print(f\"The person will drive a {self.engineType} car\")\n",
    "    \n",
    "parent = Car(2,2,\"Petrol\")\n",
    "parent.drive()\n",
    "\n",
    "\n",
    "## Child Class\n",
    "class Tesla(Car):                          # Tesla inherits from Car\n",
    "    def __init__(self, doors, window, engineType, isSelfDriving):\n",
    "        super().__init__(doors, window, engineType)  # call parent __init__ to set doors, windows, engine\n",
    "        self.isSelfDriving = isSelfDriving           # child-specific property\n",
    "\n",
    "    def selfDrive(self):\n",
    "        print(f\"Tesla support self driving: {self.isSelfDriving}\")  # child-specific method\n",
    "\n",
    "child = Tesla(2, 2, \"Electric\", True)       # create Tesla object (inherits Car's attributes & methods)\n",
    "child.drive()                              # call inherited method from Car\n",
    "child.selfDrive()                          # call Tesla's own method"
   ]
  },
  {
   "cell_type": "code",
   "execution_count": 11,
   "id": "dd2de50a",
   "metadata": {},
   "outputs": [
    {
     "name": "stdout",
     "output_type": "stream",
     "text": [
      "Almond's owner is Pritam\n"
     ]
    }
   ],
   "source": [
    "### Multiple Inheritance ###\n",
    "# Parent class1 \n",
    "class Animal:\n",
    "    def __init__(self,name):\n",
    "        self.name=name\n",
    "    \n",
    "    def sound(self):\n",
    "        print(\"parent class method\")\n",
    "\n",
    "# Parent class2\n",
    "class Pet:\n",
    "    def __init__(self,owner):\n",
    "        self.owner=owner\n",
    "\n",
    "\n",
    "\n",
    "# Child/Derived Class\n",
    "\n",
    "class Dog(Animal,Pet):\n",
    "    def __init__(self, name,owner):\n",
    "        Animal.__init__(self,name)\n",
    "        Pet.__init__(self,owner)\n",
    "\n",
    "    def speak(self):\n",
    "        print(f\"{self.name}'s owner is {self.owner}\")\n",
    "\n",
    "mypet = Dog(\"Almond\",\"Pritam\")\n",
    "mypet.speak()"
   ]
  }
 ],
 "metadata": {
  "kernelspec": {
   "display_name": "Python 3",
   "language": "python",
   "name": "python3"
  },
  "language_info": {
   "codemirror_mode": {
    "name": "ipython",
    "version": 3
   },
   "file_extension": ".py",
   "mimetype": "text/x-python",
   "name": "python",
   "nbconvert_exporter": "python",
   "pygments_lexer": "ipython3",
   "version": "3.12.0"
  }
 },
 "nbformat": 4,
 "nbformat_minor": 5
}
