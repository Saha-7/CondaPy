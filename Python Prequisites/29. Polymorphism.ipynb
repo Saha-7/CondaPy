{
 "cells": [
  {
   "cell_type": "markdown",
   "id": "aeebf149",
   "metadata": {},
   "source": [
    "# Polymorphism in Python\n"
   ]
  },
  {
   "cell_type": "markdown",
   "id": "7819c9b4",
   "metadata": {},
   "source": [
    "# Method Overriding\n",
    "\n",
    "Method overriding allows a child class to provide a specific implementation of a method that is already defined in its parent class."
   ]
  },
  {
   "cell_type": "code",
   "execution_count": null,
   "id": "f11840d0",
   "metadata": {
    "vscode": {
     "languageId": "plaintext"
    }
   },
   "outputs": [],
   "source": [
    "## Base Class\n"
   ]
  }
 ],
 "metadata": {
  "language_info": {
   "name": "python"
  }
 },
 "nbformat": 4,
 "nbformat_minor": 5
}
