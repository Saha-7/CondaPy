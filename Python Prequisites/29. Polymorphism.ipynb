{
 "cells": [
  {
   "cell_type": "markdown",
   "id": "aeebf149",
   "metadata": {},
   "source": [
    "# Polymorphism in Python\n",
    "\n",
    "Polymorphism is the ability of different objects or classes to respond to the same method call in their own specific way. ploymorphism is typically achieved through method overriding & interfaces.\n"
   ]
  },
  {
   "cell_type": "markdown",
   "id": "7819c9b4",
   "metadata": {},
   "source": [
    "## Method Overriding\n",
    "\n",
    "Method overriding allows a child class to provide a specific implementation of a method that is already defined in its parent class."
   ]
  },
  {
   "cell_type": "code",
   "execution_count": 6,
   "id": "4c9a16b3",
   "metadata": {},
   "outputs": [
    {
     "name": "stdout",
     "output_type": "stream",
     "text": [
      "Woof\n",
      "Meow Meow\n",
      "Woof\n"
     ]
    }
   ],
   "source": [
    "## Base Class \n",
    "class Animal:\n",
    "    def speak(self):\n",
    "        return \"Sound of the Animal\"\n",
    "\n",
    "# Derived Class\n",
    "class Dog(Animal):\n",
    "    def speak(self):\n",
    "        return \"Woof\"\n",
    "\n",
    "# Derived Class\n",
    "class Cat(Animal):\n",
    "    def speak(self):\n",
    "        return \"Meow Meow\"\n",
    "\n",
    "\n",
    "## Function that demonstartes ploymorphism ##\n",
    "# public function\n",
    "def animal_speak(animal):\n",
    "    return (animal.speak())\n",
    "\n",
    "\n",
    "dog = Dog()\n",
    "print(dog.speak())\n",
    "\n",
    "cat=Cat()\n",
    "print(cat.speak())\n",
    "\n",
    "print(animal_speak(dog))\n"
   ]
  },
  {
   "cell_type": "code",
   "execution_count": null,
   "id": "0a3240cc",
   "metadata": {},
   "outputs": [
    {
     "name": "stdout",
     "output_type": "stream",
     "text": [
      "The area is : 20\n",
      "The area is : 452.15999999999997\n"
     ]
    }
   ],
   "source": [
    "## Base  \n",
    "class Shape:\n",
    "    def area():\n",
    "        return \"It returns the area\"\n",
    "\n",
    "# Derived Class 1\n",
    "class Rectangle(Shape):\n",
    "    def __init__(self,height,width):\n",
    "        self.height=height\n",
    "        self.width= width\n",
    "    \n",
    "    def area(self):\n",
    "        return self.height * self.width\n",
    "    \n",
    "\n",
    "# Derived Class 2\n",
    "class Circle(Shape):\n",
    "    def __init__(self,radius):\n",
    "        self.radius=radius\n",
    "    \n",
    "    def area(self):\n",
    "        return 3.14 * self.radius * self.radius\n",
    "    \n",
    "    \n",
    "## Function to demonstrate polymorphism ##\n",
    "def print_area(shape):\n",
    "    print(f\"The area is : {shape.area()}\")\n",
    "\n",
    "\n",
    "rectangular = Rectangle(4,5)\n",
    "circular = Circle(12)\n",
    "\n",
    "print_area(rectangular)\n",
    "print_area(circular)"
   ]
  }
 ],
 "metadata": {
  "kernelspec": {
   "display_name": "Python 3",
   "language": "python",
   "name": "python3"
  },
  "language_info": {
   "codemirror_mode": {
    "name": "ipython",
    "version": 3
   },
   "file_extension": ".py",
   "mimetype": "text/x-python",
   "name": "python",
   "nbconvert_exporter": "python",
   "pygments_lexer": "ipython3",
   "version": "3.12.0"
  }
 },
 "nbformat": 4,
 "nbformat_minor": 5
}
